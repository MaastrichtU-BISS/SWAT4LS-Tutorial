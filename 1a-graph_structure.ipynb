{
 "cells": [
  {
   "cell_type": "code",
   "execution_count": null,
   "metadata": {},
   "outputs": [],
   "source": [
    "!pip install pyvis sparqlwrapper"
   ]
  },
  {
   "cell_type": "code",
   "execution_count": null,
   "metadata": {},
   "outputs": [],
   "source": [
    "rdf_endpoint = ''"
   ]
  },
  {
   "cell_type": "code",
   "execution_count": null,
   "metadata": {},
   "outputs": [],
   "source": [
    "# Setup, run once\n",
    "from pyvis.network import Network\n",
    "from SPARQLWrapper import SPARQLWrapper, JSON\n",
    "\n",
    "def runQuery(myQuery):\n",
    "    endpoint = SPARQLWrapper(rdf_endpoint)\n",
    "    endpoint.setQuery(myQuery)\n",
    "    endpoint.method = \"POST\"\n",
    "    endpoint.setReturnFormat(JSON)\n",
    "    return endpoint.query().convert()[\"results\"][\"bindings\"]"
   ]
  },
  {
   "cell_type": "markdown",
   "metadata": {},
   "source": [
    "## Get classes present in the database"
   ]
  },
  {
   "cell_type": "code",
   "execution_count": null,
   "metadata": {},
   "outputs": [],
   "source": [
    "graph = Network(notebook=True, directed=True, width=900, height=720)\n",
    "graph.show_buttons(filter_=['physics'])\n",
    "graph.barnes_hut(\n",
    "    gravity=-3050,\n",
    "    spring_length=120,\n",
    "    overlap=0.2\n",
    ")\n",
    "\n",
    "classResults = runQuery(\"\"\"\n",
    "PREFIX rdf: <http://www.w3.org/1999/02/22-rdf-syntax-ns#>\n",
    "\n",
    "SELECT DISTINCT ?class\n",
    "WHERE {\n",
    "    ?instance rdf:type ?class.\n",
    "}\n",
    "\"\"\")\n",
    "\n",
    "classes = []\n",
    "for classResult in classResults:\n",
    "    #if it is a bnode, then skip\n",
    "    if classResult[\"class\"][\"type\"] == \"bnode\":\n",
    "        continue\n",
    "    \n",
    "    myClass = classResult[\"class\"][\"value\"]\n",
    "    \n",
    "    # Ignore ontology nodes\n",
    "    if not (myClass.startswith(\"http://www.w3.org/1999/02/22-rdf-syntax-ns#\") | \n",
    "                    myClass.startswith(\"http://www.w3.org/2002/07/owl#\") | \n",
    "                    myClass.startswith(\"http://www.w3.org/2000/01/rdf-schema#\")):\n",
    "        graph.add_node(myClass)\n",
    "        classes.append(myClass)"
   ]
  },
  {
   "cell_type": "code",
   "execution_count": null,
   "metadata": {},
   "outputs": [],
   "source": [
    "graph.show('classes.html')"
   ]
  },
  {
   "cell_type": "markdown",
   "metadata": {},
   "source": [
    "## Extract the edges between the instances of these classes and use them to connect them"
   ]
  },
  {
   "cell_type": "code",
   "execution_count": null,
   "metadata": {},
   "outputs": [],
   "source": [
    "def getRelationsForClass(classUri):\n",
    "    myQuery = \"\"\"\n",
    "        PREFIX rdf: <http://www.w3.org/1999/02/22-rdf-syntax-ns#>\n",
    "\n",
    "        SELECT DISTINCT ?p ?o\n",
    "        WHERE {\n",
    "            ?instances rdf:type <%s>.\n",
    "            ?instances ?p ?relatedClass.\n",
    "            ?relatedClass rdf:type ?o.\n",
    "        }\n",
    "    \"\"\" % classUri\n",
    "    return runQuery(myQuery)\n",
    "\n",
    "for myClass in classes:\n",
    "    relations = getRelationsForClass(myClass)\n",
    "    for relation in relations:\n",
    "        # predicateUri = str(relation[0])\n",
    "        predicateUri = relation[\"p\"][\"value\"]\n",
    "        domainUri = myClass\n",
    "        # rangeUri = str(relation[1])\n",
    "        rangeUri = relation[\"o\"][\"value\"]\n",
    "\n",
    "        # Ignore ontology edges\n",
    "        if not (predicateUri.startswith(\"http://www.w3.org/1999/02/22-rdf-syntax-ns#\") | \n",
    "                predicateUri.startswith(\"http://www.w3.org/2002/07/owl#\") | \n",
    "                predicateUri.startswith(\"http://www.w3.org/2000/01/rdf-schema#\")):\n",
    "\n",
    "            graph.add_edge(domainUri, rangeUri, title=predicateUri, uri=predicateUri)"
   ]
  },
  {
   "cell_type": "code",
   "execution_count": null,
   "metadata": {},
   "outputs": [],
   "source": [
    "graph.show('connected.html')"
   ]
  },
  {
   "cell_type": "markdown",
   "metadata": {},
   "source": [
    "## Extract namespaces to make the URIs more readable"
   ]
  },
  {
   "cell_type": "code",
   "execution_count": null,
   "metadata": {},
   "outputs": [],
   "source": [
    "import re\n",
    "\n",
    "namespaces = set()\n",
    "\n",
    "# Extract all the namespaces by removing everything after the last / or #\n",
    "for uri in [node['id'] for node in graph.nodes] + [edge['title'] for edge in graph.edges]:\n",
    "    namespace = re.sub(r'(.+[#/])[^#/]+', r'\\1', uri)\n",
    "    namespaces.add(namespace)\n",
    "\n",
    "# Take the last part of the URI to be the prefix\n",
    "# (probably too naive to generalize well, could build in checks)\n",
    "namespaces = {ns: re.split(r'[#/]', ns)[-2] for ns in namespaces}\n",
    "\n",
    "for ns, pref in namespaces.items():\n",
    "    print(f'{ns} - {pref}')"
   ]
  },
  {
   "cell_type": "code",
   "execution_count": null,
   "metadata": {},
   "outputs": [],
   "source": [
    "# Transform URIs using prefixes\n",
    "for node in graph.nodes:\n",
    "    for ns, pref in namespaces.items():\n",
    "        if node['id'].startswith(ns):\n",
    "            node['label'] = node['id'].replace(ns, pref + ':')\n",
    "\n",
    "for edge in graph.edges:\n",
    "    for ns, pref in namespaces.items():\n",
    "        if edge['title'].startswith(ns):\n",
    "            edge['title'] = edge['title'].replace(ns, pref + ':')"
   ]
  },
  {
   "cell_type": "code",
   "execution_count": null,
   "metadata": {},
   "outputs": [],
   "source": [
    "graph.show('prefixed.html')"
   ]
  },
  {
   "cell_type": "markdown",
   "metadata": {},
   "source": [
    "## Get labels to make things actually human-readable"
   ]
  },
  {
   "cell_type": "code",
   "execution_count": null,
   "metadata": {},
   "outputs": [],
   "source": [
    "def getLabelForUri(uri):\n",
    "    myQuery = \"\"\"\n",
    "        prefix rdfs: <http://www.w3.org/2000/01/rdf-schema#>\n",
    "\n",
    "        SELECT ?uriLabel\n",
    "        WHERE {\n",
    "            <%s> rdfs:label ?uriLabel.\n",
    "        }\"\"\" % str(uri)\n",
    "\n",
    "    results = runQuery(myQuery)\n",
    "    \n",
    "    for result in results:\n",
    "        retVal = str(result[\"uriLabel\"][\"value\"])\n",
    "        return retVal\n",
    "    return ''\n",
    "\n",
    "for node in graph.nodes:\n",
    "    newLabel = getLabelForUri(node['id'])\n",
    "    if newLabel:\n",
    "        node['label'] = f'{newLabel}\\n{node[\"label\"]}'\n",
    "\n",
    "prev_edges = {}\n",
    "for edge in graph.edges:\n",
    "    if edge['uri'] not in prev_edges:\n",
    "        newLabel = getLabelForUri(edge['uri'])\n",
    "        prev_edges[edge['uri']] = newLabel\n",
    "        if newLabel:\n",
    "            edge['title'] = f'{newLabel}\\n{edge[\"title\"]}'\n",
    "    else:\n",
    "        if prev_edges[edge['uri']]:\n",
    "            edge['title'] = f'{prev_edges[edge[\"uri\"]]}\\n{edge[\"title\"]}'\n"
   ]
  },
  {
   "cell_type": "code",
   "execution_count": null,
   "metadata": {},
   "outputs": [],
   "source": [
    "graph.show('labelled.html')"
   ]
  }
 ],
 "metadata": {
  "interpreter": {
   "hash": "a06a01ce0865889cc756472f248a4ff9fe45699d148bc95a7c8f8d96d2d66375"
  },
  "kernelspec": {
   "display_name": "Python 3 (ipykernel)",
   "language": "python",
   "name": "python3"
  },
  "language_info": {
   "codemirror_mode": {
    "name": "ipython",
    "version": 3
   },
   "file_extension": ".py",
   "mimetype": "text/x-python",
   "name": "python",
   "nbconvert_exporter": "python",
   "pygments_lexer": "ipython3",
   "version": "3.9.9"
  }
 },
 "nbformat": 4,
 "nbformat_minor": 2
}
