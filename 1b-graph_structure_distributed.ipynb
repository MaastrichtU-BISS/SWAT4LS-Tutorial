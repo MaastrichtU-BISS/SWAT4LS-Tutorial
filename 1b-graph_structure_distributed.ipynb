{
 "cells": [
  {
   "cell_type": "code",
   "execution_count": null,
   "metadata": {},
   "outputs": [],
   "source": [
    "!pip install vantage6-client pyvis"
   ]
  },
  {
   "cell_type": "code",
   "execution_count": null,
   "metadata": {},
   "outputs": [],
   "source": [
    "vantage_server = ''\n",
    "vantage_user = ''\n",
    "vantage_password = ''"
   ]
  },
  {
   "cell_type": "code",
   "execution_count": null,
   "metadata": {},
   "outputs": [],
   "source": [
    "# Setup, run once\n",
    "from vantage6.client import Client\n",
    "from uuid import uuid4"
   ]
  },
  {
   "cell_type": "code",
   "execution_count": null,
   "metadata": {},
   "outputs": [],
   "source": [
    "client = Client(vantage_server, 443, \"/api\")\n",
    "client.authenticate(vantage_user, vantage_password)\n",
    "client.setup_encryption(None)"
   ]
  },
  {
   "cell_type": "markdown",
   "metadata": {},
   "source": [
    "## Who's who?"
   ]
  },
  {
   "cell_type": "code",
   "execution_count": null,
   "metadata": {},
   "outputs": [],
   "source": [
    "client.organization.list()"
   ]
  },
  {
   "cell_type": "markdown",
   "metadata": {},
   "source": [
    "## Who are we working with?"
   ]
  },
  {
   "cell_type": "code",
   "execution_count": null,
   "metadata": {},
   "outputs": [],
   "source": [
    "client.collaboration.list()"
   ]
  },
  {
   "cell_type": "markdown",
   "metadata": {},
   "source": [
    "## Actually figure out where we can run algorithms"
   ]
  },
  {
   "cell_type": "code",
   "execution_count": null,
   "metadata": {},
   "outputs": [],
   "source": [
    "# Find out the organizations and collaborations we can run on\n",
    "import json\n",
    "collaboration_list = client.collaboration.list()\n",
    "collaboration_index = 0\n",
    "organization_ids_ = [ ]\n",
    "\n",
    "for organization in collaboration_list[collaboration_index]['organizations']:\n",
    "    organization_ids_.append(organization['id'])\n",
    "print(json.dumps(client.node.list(), indent=2))"
   ]
  },
  {
   "cell_type": "markdown",
   "metadata": {},
   "source": [
    "## Send out one central master task"
   ]
  },
  {
   "cell_type": "code",
   "execution_count": null,
   "metadata": {},
   "outputs": [],
   "source": [
    "# Request the structure to be built\n",
    "input_ = {\n",
    "    \"master\": \"true\",\n",
    "    \"method\":\"master\", \n",
    "    \"args\": [ ],\n",
    "    \"kwargs\": {}\n",
    "}\n",
    "\n",
    "task = client.post_task(\n",
    "    name=\"GetGraphStructure\",\n",
    "    image=\"jaspersnel/v6-graphstructure-rdf-py:swat4ls-0.1.0\",\n",
    "    collaboration_id=collaboration_list[collaboration_index]['id'],#Get the first collaboration associated with user\n",
    "    input_= input_,\n",
    "    organization_ids=[organization_ids_[0]]\n",
    ")\n",
    "\n",
    "print(json.dumps(task, indent=2))"
   ]
  },
  {
   "cell_type": "markdown",
   "metadata": {},
   "source": [
    "## And then wait..."
   ]
  },
  {
   "cell_type": "code",
   "execution_count": null,
   "metadata": {},
   "outputs": [],
   "source": [
    "# Wait for results\n",
    "import time\n",
    "import json\n",
    "resultObjRef = task.get(\"results\")[0]\n",
    "resultObj = client.result.get(resultObjRef['id'])\n",
    "attempts = 1\n",
    "while((resultObj[\"finished_at\"] == None) and attempts < 10):\n",
    "    print(\"waiting...\")\n",
    "    time.sleep(5)\n",
    "    resultObj = client.result.get(resultObjRef['id'])\n",
    "    attempts += 1\n",
    "results = resultObj['result']\n",
    "intersect = results['intersect']\n",
    "union = results['union']\n",
    "uri_data = results['uri_data']\n",
    "print(intersect[:10])\n",
    "print(union[:10])"
   ]
  },
  {
   "cell_type": "markdown",
   "metadata": {},
   "source": [
    "## What have we found?"
   ]
  },
  {
   "cell_type": "code",
   "execution_count": null,
   "metadata": {},
   "outputs": [],
   "source": [
    "# List (some of) the classes we've found\n",
    "classes = set()\n",
    "for s, p, o in union + intersect:\n",
    "    classes.add(s)\n",
    "    classes.add(o)\n",
    "\n",
    "for i, cls in enumerate(classes):\n",
    "    print(cls)\n",
    "    if i >= 9:\n",
    "        break"
   ]
  },
  {
   "cell_type": "markdown",
   "metadata": {},
   "source": [
    "## Extract namespaces and prefixes"
   ]
  },
  {
   "cell_type": "code",
   "execution_count": null,
   "metadata": {},
   "outputs": [],
   "source": [
    "# Generate namespaces\n",
    "import re\n",
    "\n",
    "namespaces = set()\n",
    "\n",
    "# Extract all the namespaces by removing everything after the last / or #\n",
    "for uri in classes.union(set([trp[1] for trp in union])):\n",
    "    namespace = re.sub(r'(.+[#/])[^#/]+', r'\\1', uri)\n",
    "    namespaces.add(namespace)\n",
    "\n",
    "# Take the last part of the URI to be the prefix\n",
    "# (probably too naive to generalize well, could build in checks)\n",
    "namespaces = {ns: re.split(r'[#/]', ns)[-2] for ns in namespaces}\n",
    "\n",
    "for ns, pref in namespaces.items():\n",
    "    print(f'{ns} - {pref}')\n",
    "\n",
    "def transform_prefix(uri: str):\n",
    "    for ns, pref in namespaces.items():\n",
    "        if uri.startswith(ns):\n",
    "            return uri.replace(ns, pref + ':')\n",
    "    return uri\n",
    "\n",
    "def get_label(uri: str):\n",
    "    return uri_data.get(uri, {}).get('label', {})"
   ]
  },
  {
   "cell_type": "markdown",
   "metadata": {},
   "source": [
    "## Show the union of the nodes' structures"
   ]
  },
  {
   "cell_type": "code",
   "execution_count": null,
   "metadata": {},
   "outputs": [],
   "source": [
    "# Show all the common elements\n",
    "from pyvis.network import Network\n",
    "\n",
    "intersect_graph = Network(notebook=True, directed=True, width=900, height=720)\n",
    "intersect_graph.show_buttons(filter_=['physics'])\n",
    "intersect_graph.barnes_hut(\n",
    "    gravity=-3050,\n",
    "    spring_length=120,\n",
    "    overlap=0.2\n",
    ")\n",
    "\n",
    "for s, p, o in intersect:\n",
    "    titles = [\n",
    "        f'{get_label(el)}\\n{transform_prefix(el)}' if get_label(el) else transform_prefix(el)\n",
    "        for el in [s, o, p]\n",
    "    ]\n",
    "    to_node = o if uri_data[o]['type'] == 'class' else o + str(uuid4())\n",
    "    intersect_graph.add_nodes(\n",
    "        [s, to_node], \n",
    "        label=titles[:2])\n",
    "    intersect_graph.add_edge(s, to_node, title=titles[2])\n",
    "\n",
    "intersect_graph.show('intersect.html')"
   ]
  },
  {
   "cell_type": "markdown",
   "metadata": {},
   "source": [
    "## ... and the intersection"
   ]
  },
  {
   "cell_type": "code",
   "execution_count": null,
   "metadata": {},
   "outputs": [],
   "source": [
    "# Show all elements\n",
    "union_graph = Network(notebook=True, directed=True, width=900, height=720)\n",
    "union_graph.show_buttons(filter_=['physics'])\n",
    "union_graph.barnes_hut(\n",
    "    gravity=-3050,\n",
    "    spring_length=120,\n",
    "    overlap=0.2\n",
    ")\n",
    "\n",
    "for s, p, o in union:\n",
    "    titles = [\n",
    "        f'{get_label(el)}\\n{transform_prefix(el)}' if get_label(el) else transform_prefix(el)\n",
    "        for el in [s, o, p]\n",
    "    ]\n",
    "    to_node = o if uri_data[o]['type'] == 'class' else o + str(uuid4())\n",
    "    union_graph.add_nodes(\n",
    "        [s, to_node], \n",
    "        label=titles[:2])\n",
    "    union_graph.add_edge(s, to_node, title=titles[2])\n",
    "\n",
    "union_graph.show('union.html')"
   ]
  },
  {
   "cell_type": "markdown",
   "metadata": {},
   "source": [
    "## Bring it all together"
   ]
  },
  {
   "cell_type": "code",
   "execution_count": null,
   "metadata": {},
   "outputs": [],
   "source": [
    "# Combine them!\n",
    "graph = Network(notebook=True, directed=True, width=900, height=720)\n",
    "graph.show_buttons(filter_=['physics'])\n",
    "graph.barnes_hut(\n",
    "    gravity=-3050,\n",
    "    spring_length=120,\n",
    "    overlap=0.2\n",
    ")\n",
    "\n",
    "intersect_classes = [s for s, _, _ in intersect] + [o for _, _, o in intersect]\n",
    "\n",
    "for s, p, o in union:\n",
    "    titles = [\n",
    "        f'{get_label(el)}\\n{transform_prefix(el)}' if get_label(el) else transform_prefix(el)\n",
    "        for el in [s, o, p]\n",
    "    ]\n",
    "\n",
    "    color = 'pink'\n",
    "    if s in intersect_classes:\n",
    "        color = 'lightblue'\n",
    "    graph.add_node(s, color=color, label=titles[0])\n",
    "\n",
    "    to_node = o if uri_data[o]['type'] == 'class' else o + str(uuid4())\n",
    "\n",
    "    value = 20\n",
    "    color = 'pink'\n",
    "    if o in intersect_classes:\n",
    "        color = 'lightblue'\n",
    "    if uri_data[o]['type'] == 'literal':\n",
    "        color = 'grey'\n",
    "        value = 10\n",
    "\n",
    "    graph.add_node(to_node, color=color, label=titles[1], value=value)\n",
    "\n",
    "    graph.add_edge(s, to_node, title=titles[2])\n",
    "\n",
    "graph.show('integrated.html')"
   ]
  },
  {
   "cell_type": "code",
   "execution_count": null,
   "metadata": {},
   "outputs": [],
   "source": []
  }
 ],
 "metadata": {
  "interpreter": {
   "hash": "a06a01ce0865889cc756472f248a4ff9fe45699d148bc95a7c8f8d96d2d66375"
  },
  "kernelspec": {
   "display_name": "Python 3.9.9 64-bit ('venv': venv)",
   "language": "python",
   "name": "python3"
  },
  "language_info": {
   "codemirror_mode": {
    "name": "ipython",
    "version": 3
   },
   "file_extension": ".py",
   "mimetype": "text/x-python",
   "name": "python",
   "nbconvert_exporter": "python",
   "pygments_lexer": "ipython3",
   "version": "3.9.9"
  },
  "orig_nbformat": 4
 },
 "nbformat": 4,
 "nbformat_minor": 2
}
