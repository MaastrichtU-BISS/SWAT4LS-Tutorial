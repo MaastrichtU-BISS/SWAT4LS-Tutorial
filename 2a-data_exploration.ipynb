{
 "cells": [
  {
   "cell_type": "code",
   "execution_count": null,
   "metadata": {},
   "outputs": [],
   "source": [
    "!pip install pandas numpy matplotlib sparqlwrapper"
   ]
  },
  {
   "cell_type": "code",
   "execution_count": null,
   "metadata": {},
   "outputs": [],
   "source": [
    "import io\n",
    "import pandas as pd\n",
    "import numpy as np\n",
    "import matplotlib.pyplot as plt\n",
    "import matplotlib as mpl\n",
    "from SPARQLWrapper import SPARQLWrapper, CSV"
   ]
  },
  {
   "cell_type": "markdown",
   "metadata": {},
   "source": [
    "## Write a query!"
   ]
  },
  {
   "cell_type": "code",
   "execution_count": null,
   "metadata": {},
   "outputs": [],
   "source": [
    "query = \"\"\"\n",
    "prefix snomedct: <http://purl.bioontology.org/ontology/SNOMEDCT/>\n",
    "prefix roo: <http://www.cancerdata.org/roo/>\n",
    "prefix ncit: <http://ncicb.nci.nih.gov/xml/owl/EVS/Thesaurus.owl#>\n",
    "PREFIX rdf: <http://www.w3.org/1999/02/22-rdf-syntax-ns#>\n",
    "PREFIX xsd: <http://www.w3.org/2001/XMLSchema#>\n",
    "\n",
    "\n",
    "\n",
    "\n",
    "select ?patientIdentifier ?age ?sex ?diseaseDate ?location ?tumourType\n",
    "\n",
    "\n",
    "\n",
    "where {\n",
    "?patient a snomedct:116154003;\n",
    "ncit:P395 ?patientIdentifier. #targetCode\n",
    "?patient roo:P100000 ?ageClass. #has age\n",
    "?ageClass roo:P100042 ?age.\n",
    "?patient roo:P100018 ?sexClass. #has biological sex\n",
    "?sexClass roo:P100042 ?sexValue.\n",
    "BIND( xsd:string(IF(?sexValue = 2, \"female\", \"male\")) AS ?sex).\n",
    "?patient roo:P100008 ?tumour.#has neoplasm\n",
    "?tumour ncit:P395 ?diseaseEpisode;\n",
    "roo:P100042 ?tumourTypeClass;\n",
    "roo:P100257 [ #has disease date\n",
    "roo:P100042 ?diseaseDate];\n",
    "roo:P100202 [ #has location\n",
    "rdf:type snomedct:272451001;\n",
    "roo:P100042 ?locationClass\n",
    "].\n",
    "BIND (COALESCE(\n",
    "IF(?locationClass = \"C500\", \"Areola\", 1/0),\n",
    "IF(?locationClass = \"C501\", \"Central Part\", 1/0),\n",
    "IF(?locationClass = \"C502\", \"medial upper quadrant\", 1/0),\n",
    "IF(?locationClass = \"C503\", \"medial lower quadrant\", 1/0),\n",
    "IF(?locationClass = \"C504\", \"lateral upper quadrant\", 1/0),\n",
    "IF(?locationClass = \"C505\", \"lateral lower quadrant\", 1/0),\n",
    "IF(?locationClass = \"C506\", \"axillary tail\", 1/0),\n",
    "IF(?locationClass = \"C508\", \"overlap\", 1/0),\n",
    "IF(?locationClass = \"C509\", \"unspecified\", 1/0),\n",
    "\"F\") AS ?location)\n",
    "BIND (COALESCE(\n",
    "IF(?tumourTypeClass = 501300, xsd:string(\"Invasive mammary carcinoma\"), 1/0),\n",
    "IF(?tumourTypeClass = 502200, xsd:string(\"Ductal carcinoma in situ\"), 1/0),\n",
    "IF(?tumourTypeClass = 503200, xsd:string(\"Lobular carcinoma in situ\"), 1/0),\n",
    "\"F\" ) AS ?tumourType)\n",
    "\n",
    "}\n",
    "\"\"\""
   ]
  },
  {
   "cell_type": "code",
   "execution_count": null,
   "metadata": {},
   "outputs": [],
   "source": [
    "sparql = SPARQLWrapper('https://rdf.endpoint', returnFormat=CSV)\n",
    "sparql.setQuery(query)\n",
    "\n",
    "result = sparql.query().convert().decode()\n",
    "\n",
    "data = pd.read_csv(io.StringIO(result))"
   ]
  },
  {
   "cell_type": "code",
   "execution_count": null,
   "metadata": {},
   "outputs": [],
   "source": [
    "# How many datapoints do we have and how complete are they?\n",
    "print(f'Number of rows in the data: {len(data)}')\n",
    "print(f'Number of rows with no missing values: {len(data.dropna(axis=0, how=\"any\"))}')\n",
    "print('Number of missing values in each column:')\n",
    "print(data.apply(pd.isna, axis=1).agg('sum', axis=0))\n"
   ]
  },
  {
   "cell_type": "code",
   "execution_count": null,
   "metadata": {},
   "outputs": [],
   "source": [
    "# What kind of columns do we have?\n",
    "print('List of numeric columns:')\n",
    "print(list(data.select_dtypes(include=[np.number]).columns))\n",
    "\n",
    "print('List of non-numeric columns:')\n",
    "non_numerics = list(data.select_dtypes(exclude=[np.number]).columns)\n",
    "print(non_numerics)"
   ]
  },
  {
   "cell_type": "code",
   "execution_count": null,
   "metadata": {},
   "outputs": [],
   "source": [
    "# What's in the numeric columns?\n",
    "def make_hists(df, fig_kwargs=None, hist_kwargs=None,\n",
    "               style_cycle=None):\n",
    "    '''\n",
    "    https://stackoverflow.com/questions/39262630/pandas-plot-hist-sharex-false-does-not-behave-as-expected\n",
    "    Parameters\n",
    "    ----------\n",
    "    df : pd.DataFrame\n",
    "        Datasource\n",
    "\n",
    "    fig_kwargs : dict, optional\n",
    "        kwargs to pass to `plt.subplots`\n",
    "\n",
    "        defaults to {'fig_size': (4, 1.5*len(df.columns),\n",
    "                     'tight_layout': True}\n",
    "\n",
    "    hist_kwargs : dict, optional\n",
    "        Extra kwargs to pass to `ax.hist`, defaults\n",
    "        to `{'bins': 'auto'}\n",
    "\n",
    "    style_cycle : cycler\n",
    "        Style cycle to use, defaults to \n",
    "        mpl.rcParams['axes.prop_cycle']\n",
    "\n",
    "    Returns\n",
    "    -------\n",
    "    fig : mpl.figure.Figure\n",
    "        The figure created\n",
    "\n",
    "    ax_list : list\n",
    "        The mpl.axes.Axes objects created \n",
    "\n",
    "    arts : dict \n",
    "        maps column names to the histogram artist\n",
    "    '''\n",
    "    if style_cycle is None:\n",
    "        style_cycle = mpl.rcParams['axes.prop_cycle']\n",
    "\n",
    "    if fig_kwargs is None:\n",
    "        fig_kwargs = {}\n",
    "    if hist_kwargs is None:\n",
    "        hist_kwargs = {}\n",
    "\n",
    "    hist_kwargs.setdefault('log', True)\n",
    "    # this requires nmupy >= 1.11\n",
    "    hist_kwargs.setdefault('bins', 'auto')\n",
    "    cols = df.columns\n",
    "\n",
    "    fig_kwargs.setdefault('figsize', (4, 1.5*len(cols)))\n",
    "    fig_kwargs.setdefault('tight_layout', True)\n",
    "    fig, ax_lst = plt.subplots(len(cols), 1, **fig_kwargs)\n",
    "    arts = {}\n",
    "    for ax, col, sty in zip(ax_lst, cols, style_cycle()):\n",
    "        h = ax.hist(col, data=df, **hist_kwargs, **sty)\n",
    "        ax.legend()\n",
    "\n",
    "        arts[col] = h\n",
    "\n",
    "    return fig, list(ax_lst), arts\n",
    "\n",
    "make_hists(data.select_dtypes(include=[np.number]))"
   ]
  },
  {
   "cell_type": "code",
   "execution_count": null,
   "metadata": {},
   "outputs": [],
   "source": [
    "# Any further general information about the columns\n",
    "data.describe()"
   ]
  },
  {
   "cell_type": "code",
   "execution_count": null,
   "metadata": {},
   "outputs": [],
   "source": [
    "# What kind of data is in the non-numeric columns?\n",
    "print('Number of unique values in non-numeric columns:')\n",
    "print(data[non_numerics].agg([\n",
    "    lambda x: len(x.unique()), \n",
    "]))\n",
    "print()\n",
    "print('what these unique values look like (truncated for readability):')\n",
    "for col in data[non_numerics].columns:\n",
    "    print(f'{col}:')\n",
    "    print(list(data[col][:10]))"
   ]
  },
  {
   "cell_type": "code",
   "execution_count": null,
   "metadata": {},
   "outputs": [],
   "source": [
    "# How many times we see the individual values in each columns:\n",
    "for col in data[non_numerics].columns:\n",
    "    print(f'{col}:')\n",
    "    print(data[col].value_counts().sort_values(ascending=False)[:10])\n",
    "    print()"
   ]
  }
 ],
 "metadata": {
  "interpreter": {
   "hash": "a06a01ce0865889cc756472f248a4ff9fe45699d148bc95a7c8f8d96d2d66375"
  },
  "kernelspec": {
   "display_name": "Python 3.9.9 64-bit ('venv': venv)",
   "language": "python",
   "name": "python3"
  },
  "language_info": {
   "codemirror_mode": {
    "name": "ipython",
    "version": 3
   },
   "file_extension": ".py",
   "mimetype": "text/x-python",
   "name": "python",
   "nbconvert_exporter": "python",
   "pygments_lexer": "ipython3",
   "version": "3.9.9"
  },
  "orig_nbformat": 4
 },
 "nbformat": 4,
 "nbformat_minor": 2
}
