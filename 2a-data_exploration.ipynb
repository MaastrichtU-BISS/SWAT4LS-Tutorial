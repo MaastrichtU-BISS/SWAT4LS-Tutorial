{
 "cells": [
  {
   "cell_type": "code",
   "execution_count": null,
   "metadata": {},
   "outputs": [],
   "source": [
    "!pip install pandas numpy"
   ]
  },
  {
   "cell_type": "code",
   "execution_count": null,
   "metadata": {},
   "outputs": [],
   "source": [
    "import pandas as pd\n",
    "import numpy as np"
   ]
  },
  {
   "cell_type": "code",
   "execution_count": null,
   "metadata": {},
   "outputs": [],
   "source": [
    "data = pd.read_csv('data/lung1.csv')"
   ]
  },
  {
   "cell_type": "code",
   "execution_count": null,
   "metadata": {},
   "outputs": [],
   "source": [
    "# How many datapoints do we have and how complete are they?\n",
    "print(f'Number of rows in the data: {len(data)}')\n",
    "print(f'Number of rows with no missing values: {len(data.dropna(axis=0, how=\"any\"))}')\n",
    "print('Number of missing values in each column:')\n",
    "print(data.apply(pd.isna, axis=1).agg('sum', axis=0))\n"
   ]
  },
  {
   "cell_type": "code",
   "execution_count": null,
   "metadata": {},
   "outputs": [],
   "source": [
    "# What kind of columns do we have?\n",
    "print('List of numeric columns:')\n",
    "print(list(data.select_dtypes(include=[np.number]).columns))\n",
    "\n",
    "print('List of non-numeric columns:')\n",
    "non_numerics = list(data.select_dtypes(exclude=[np.number]).columns)\n",
    "print(non_numerics)"
   ]
  },
  {
   "cell_type": "code",
   "execution_count": null,
   "metadata": {},
   "outputs": [],
   "source": [
    "# What's in the numeric columns?\n",
    "from swat4ls.util import make_hists\n",
    "\n",
    "make_hists(data.select_dtypes(include=[np.number]))"
   ]
  },
  {
   "cell_type": "code",
   "execution_count": null,
   "metadata": {},
   "outputs": [],
   "source": [
    "# Any further general information about the columns\n",
    "data.describe()"
   ]
  },
  {
   "cell_type": "code",
   "execution_count": null,
   "metadata": {},
   "outputs": [],
   "source": [
    "# What kind of data is in the non-numeric columns?\n",
    "print('Number of unique values in non-numeric columns:')\n",
    "print(data[non_numerics].agg([\n",
    "    lambda x: len(x.unique()), \n",
    "]))\n",
    "print()\n",
    "print('what these unique values look like (truncated for readability):')\n",
    "for col in data[non_numerics].columns:\n",
    "    print(f'{col}:')\n",
    "    print(list(data[col][:10]))"
   ]
  },
  {
   "cell_type": "code",
   "execution_count": null,
   "metadata": {},
   "outputs": [],
   "source": [
    "# How many times we see the individual values in each columns:\n",
    "for col in data[non_numerics].columns:\n",
    "    print(f'{col}:')\n",
    "    print(data[col].value_counts().sort_values(ascending=False)[:10])\n",
    "    print()"
   ]
  }
 ],
 "metadata": {
  "interpreter": {
   "hash": "a06a01ce0865889cc756472f248a4ff9fe45699d148bc95a7c8f8d96d2d66375"
  },
  "kernelspec": {
   "display_name": "Python 3.9.9 64-bit ('venv': venv)",
   "language": "python",
   "name": "python3"
  },
  "language_info": {
   "codemirror_mode": {
    "name": "ipython",
    "version": 3
   },
   "file_extension": ".py",
   "mimetype": "text/x-python",
   "name": "python",
   "nbconvert_exporter": "python",
   "pygments_lexer": "ipython3",
   "version": "3.9.9"
  },
  "orig_nbformat": 4
 },
 "nbformat": 4,
 "nbformat_minor": 2
}
