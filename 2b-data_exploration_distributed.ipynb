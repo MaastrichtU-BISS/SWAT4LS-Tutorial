{
 "cells": [
  {
   "cell_type": "code",
   "execution_count": null,
   "metadata": {},
   "outputs": [],
   "source": [
    "!pip install vantage6-client"
   ]
  },
  {
   "cell_type": "code",
   "execution_count": null,
   "metadata": {},
   "outputs": [],
   "source": [
    "vantage_server = ''\n",
    "vantage_user = ''\n",
    "vantage_password = ''"
   ]
  },
  {
   "cell_type": "code",
   "execution_count": null,
   "metadata": {},
   "outputs": [],
   "source": [
    "# Setup, run once\n",
    "from vantage6.client import Client"
   ]
  },
  {
   "cell_type": "code",
   "execution_count": null,
   "metadata": {},
   "outputs": [],
   "source": [
    "client = Client(vantage_server, 443, \"/api\")\n",
    "client.authenticate(vantage_user, vantage_password)\n",
    "client.setup_encryption(None)"
   ]
  },
  {
   "cell_type": "code",
   "execution_count": null,
   "metadata": {},
   "outputs": [],
   "source": [
    "# Find out the organizations and collaborations we can run on\n",
    "import json\n",
    "collaboration_list = client.collaboration.list()\n",
    "collaboration_index = 0\n",
    "organization_ids_ = [ ]\n",
    "\n",
    "for organization in collaboration_list[collaboration_index]['organizations']:\n",
    "    organization_ids_.append(organization['id'])"
   ]
  },
  {
   "cell_type": "code",
   "execution_count": null,
   "metadata": {},
   "outputs": [],
   "source": [
    "# Write your query here\n",
    "query = \"\"\"\n",
    "prefix snomedct: <http://purl.bioontology.org/ontology/SNOMEDCT/>\n",
    "prefix roo: <http://www.cancerdata.org/roo/>\n",
    "prefix ncit: <http://ncicb.nci.nih.gov/xml/owl/EVS/Thesaurus.owl#>\n",
    "PREFIX rdf: <http://www.w3.org/1999/02/22-rdf-syntax-ns#>\n",
    "PREFIX xsd: <http://www.w3.org/2001/XMLSchema#>\n",
    "\n",
    "SELECT ?patientIdentifier ?age ?sex ?diseaseDate ?location ?tumourType\n",
    "WHERE {\n",
    "    ?patient roo:P100018 ?sexClass . #has biological sex\n",
    "    ?sexClass roo:P100042 ?sexValue .\n",
    "    BIND( xsd:string(IF(?sexValue = 2, \"female\", \"male\")) AS ?sex) .\n",
    "}\n",
    "\"\"\""
   ]
  },
  {
   "cell_type": "code",
   "execution_count": null,
   "metadata": {},
   "outputs": [],
   "source": [
    "# Request the structure to be built\n",
    "input_ = {\n",
    "    \"master\": \"true\",\n",
    "    \"method\":\"master\", \n",
    "    \"args\": [ ],\n",
    "    \"kwargs\": {\n",
    "        \"query\": query\n",
    "    }\n",
    "}\n",
    "\n",
    "task = client.post_task(\n",
    "    name=\"ExploreData\",\n",
    "    image=\"jaspersnel/v6-summary-py-sparql:swat4ls-0.1.0\",\n",
    "    collaboration_id=collaboration_list[collaboration_index]['id'],#Get the first collaboration associated with user\n",
    "    input_= input_,\n",
    "    organization_ids=[organization_ids_[0]]\n",
    ")\n",
    "\n",
    "print(json.dumps(task, indent=2))"
   ]
  },
  {
   "cell_type": "code",
   "execution_count": null,
   "metadata": {},
   "outputs": [],
   "source": [
    "# Wait for results\n",
    "import time\n",
    "import json\n",
    "resultObjRef = task.get(\"results\")[0]\n",
    "resultObj = client.result.get(resultObjRef['id'])\n",
    "attempts = 1\n",
    "while((resultObj[\"finished_at\"] == None) and attempts < 10):\n",
    "    print(\"waiting...\")\n",
    "    time.sleep(5)\n",
    "    resultObj = client.result.get(resultObjRef['id'])\n",
    "    attempts += 1\n",
    "results = resultObj['result']\n",
    "\n",
    "print(results)"
   ]
  }
 ],
 "metadata": {
  "interpreter": {
   "hash": "d90d37459e7ee502434752eccc450bfa5c89ee8d57fbdde60cef32a9d6ab31a0"
  },
  "kernelspec": {
   "display_name": "Python 3.9.9 64-bit ('venv': venv)",
   "language": "python",
   "name": "python3"
  },
  "language_info": {
   "codemirror_mode": {
    "name": "ipython",
    "version": 3
   },
   "file_extension": ".py",
   "mimetype": "text/x-python",
   "name": "python",
   "nbconvert_exporter": "python",
   "pygments_lexer": "ipython3",
   "version": "3.9.9"
  },
  "orig_nbformat": 4
 },
 "nbformat": 4,
 "nbformat_minor": 2
}
