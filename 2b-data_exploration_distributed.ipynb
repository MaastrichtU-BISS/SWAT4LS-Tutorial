{
 "cells": [
  {
   "cell_type": "code",
   "execution_count": null,
   "metadata": {},
   "outputs": [],
   "source": [
    "!pip install vantage6-client"
   ]
  },
  {
   "cell_type": "code",
   "execution_count": null,
   "metadata": {},
   "outputs": [],
   "source": [
    "# Setup, run once\n",
    "from vantage6.client import Client"
   ]
  },
  {
   "cell_type": "code",
   "execution_count": null,
   "metadata": {},
   "outputs": [],
   "source": [
    "client = Client(\"http://localhost\", 5000, \"/api\")\n",
    "client.authenticate(\"node1-admin\", \"password\")\n",
    "client.setup_encryption(None)"
   ]
  },
  {
   "cell_type": "code",
   "execution_count": null,
   "metadata": {},
   "outputs": [],
   "source": [
    "# Find out the organizations and collaborations we can run on\n",
    "import json\n",
    "collaboration_list = client.collaboration.list()\n",
    "collaboration_index = 0\n",
    "organization_ids_ = [ ]\n",
    "\n",
    "for organization in collaboration_list[collaboration_index]['organizations']:\n",
    "    organization_ids_.append(organization['id'])"
   ]
  },
  {
   "cell_type": "code",
   "execution_count": null,
   "metadata": {},
   "outputs": [],
   "source": [
    "# Write your query here\n",
    "query = \"\"\"\n",
    "prefix snomedct: <http://purl.bioontology.org/ontology/SNOMEDCT/> \n",
    "prefix roo: <http://www.cancerdata.org/roo/>\n",
    "prefix ncit: <http://ncicb.nci.nih.gov/xml/owl/EVS/Thesaurus.owl#>\n",
    "\n",
    "select ?patient ?data where { \n",
    "    ?patient a snomedct:108369006 .\n",
    "\t?patient roo:P100214 ?measurement .\n",
    "    ?measurement a ncit:C106303 .\n",
    "    ?measurement roo:P100042 ?data .\n",
    "}\n",
    "\"\"\"\n",
    "\n",
    "query = \"\"\"\n",
    "prefix snomedct: <http://purl.bioontology.org/ontology/SNOMEDCT/>\n",
    "prefix roo: <http://www.cancerdata.org/roo/>\n",
    "prefix ncit: <http://ncicb.nci.nih.gov/xml/owl/EVS/Thesaurus.owl#>\n",
    "PREFIX rdf: <http://www.w3.org/1999/02/22-rdf-syntax-ns#>\n",
    "PREFIX xsd: <http://www.w3.org/2001/XMLSchema#>\n",
    "\n",
    "\n",
    "\n",
    "\n",
    "select ?patientIdentifier ?age ?sex ?diseaseDate ?location ?tumourType\n",
    "\n",
    "\n",
    "\n",
    "where {\n",
    "?patient a snomedct:116154003;\n",
    "ncit:P395 ?patientIdentifier. #targetCode\n",
    "?patient roo:P100000 ?ageClass. #has age\n",
    "?ageClass roo:P100042 ?age.\n",
    "?patient roo:P100018 ?sexClass. #has biological sex\n",
    "?sexClass roo:P100042 ?sexValue.\n",
    "BIND( xsd:string(IF(?sexValue = 2, \"female\", \"male\")) AS ?sex).\n",
    "?patient roo:P100008 ?tumour.#has neoplasm\n",
    "?tumour ncit:P395 ?diseaseEpisode;\n",
    "roo:P100042 ?tumourTypeClass;\n",
    "roo:P100257 [ #has disease date\n",
    "roo:P100042 ?diseaseDate];\n",
    "roo:P100202 [ #has location\n",
    "rdf:type snomedct:272451001;\n",
    "roo:P100042 ?locationClass\n",
    "].\n",
    "BIND (COALESCE(\n",
    "IF(?locationClass = \"C500\", \"Areola\", 1/0),\n",
    "IF(?locationClass = \"C501\", \"Central Part\", 1/0),\n",
    "IF(?locationClass = \"C502\", \"medial upper quadrant\", 1/0),\n",
    "IF(?locationClass = \"C503\", \"medial lower quadrant\", 1/0),\n",
    "IF(?locationClass = \"C504\", \"lateral upper quadrant\", 1/0),\n",
    "IF(?locationClass = \"C505\", \"lateral lower quadrant\", 1/0),\n",
    "IF(?locationClass = \"C506\", \"axillary tail\", 1/0),\n",
    "IF(?locationClass = \"C508\", \"overlap\", 1/0),\n",
    "IF(?locationClass = \"C509\", \"unspecified\", 1/0),\n",
    "\"F\") AS ?location)\n",
    "BIND (COALESCE(\n",
    "IF(?tumourTypeClass = 501300, xsd:string(\"Invasive mammary carcinoma\"), 1/0),\n",
    "IF(?tumourTypeClass = 502200, xsd:string(\"Ductal carcinoma in situ\"), 1/0),\n",
    "IF(?tumourTypeClass = 503200, xsd:string(\"Lobular carcinoma in situ\"), 1/0),\n",
    "\"F\" ) AS ?tumourType)\n",
    "\n",
    "}\"\"\""
   ]
  },
  {
   "cell_type": "code",
   "execution_count": null,
   "metadata": {},
   "outputs": [],
   "source": [
    "# Request the structure to be built\n",
    "input_ = {\n",
    "    \"master\": \"true\",\n",
    "    \"method\":\"master\", \n",
    "    \"args\": [ ],\n",
    "    \"kwargs\": {\n",
    "        \"query\": query\n",
    "    }\n",
    "}\n",
    "\n",
    "task = client.post_task(\n",
    "    name=\"ExploreData\",\n",
    "    image=\"jaspersnel/v6-summary-py-sparql:swat4ls-0.1.0\",\n",
    "    collaboration_id=collaboration_list[collaboration_index]['id'],#Get the first collaboration associated with user\n",
    "    input_= input_,\n",
    "    organization_ids=[organization_ids_[0]]\n",
    ")\n",
    "\n",
    "print(json.dumps(task, indent=2))"
   ]
  },
  {
   "cell_type": "code",
   "execution_count": null,
   "metadata": {},
   "outputs": [],
   "source": [
    "# Wait for results\n",
    "import time\n",
    "import json\n",
    "resultObjRef = task.get(\"results\")[0]\n",
    "resultObj = client.result.get(resultObjRef['id'])\n",
    "attempts = 1\n",
    "while((resultObj[\"finished_at\"] == None) and attempts < 10):\n",
    "    print(\"waiting...\")\n",
    "    time.sleep(5)\n",
    "    resultObj = client.result.get(resultObjRef['id'])\n",
    "    attempts += 1\n",
    "results = resultObj['result']\n",
    "\n",
    "print(results)"
   ]
  }
 ],
 "metadata": {
  "interpreter": {
   "hash": "d90d37459e7ee502434752eccc450bfa5c89ee8d57fbdde60cef32a9d6ab31a0"
  },
  "kernelspec": {
   "display_name": "Python 3.9.9 64-bit ('venv': venv)",
   "language": "python",
   "name": "python3"
  },
  "language_info": {
   "codemirror_mode": {
    "name": "ipython",
    "version": 3
   },
   "file_extension": ".py",
   "mimetype": "text/x-python",
   "name": "python",
   "nbconvert_exporter": "python",
   "pygments_lexer": "ipython3",
   "version": "3.9.9"
  },
  "orig_nbformat": 4
 },
 "nbformat": 4,
 "nbformat_minor": 2
}
