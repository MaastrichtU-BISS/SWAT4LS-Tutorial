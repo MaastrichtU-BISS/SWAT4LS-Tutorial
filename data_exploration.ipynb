{
 "cells": [
  {
   "cell_type": "code",
   "execution_count": 1,
   "metadata": {},
   "outputs": [],
   "source": [
    "import pandas as pd\n",
    "import numpy as np"
   ]
  },
  {
   "cell_type": "code",
   "execution_count": 2,
   "metadata": {},
   "outputs": [],
   "source": [
    "data = pd.read_csv('data/lung1.csv')"
   ]
  },
  {
   "cell_type": "code",
   "execution_count": 14,
   "metadata": {},
   "outputs": [
    {
     "name": "stdout",
     "output_type": "stream",
     "text": [
      "Number of rows in the data: 422\n",
      "Number of rows with no missing values: 365\n",
      "Number of missing values in each column:\n",
      "PatientID            0\n",
      "age                 22\n",
      "clinical.T.Stage     1\n",
      "Clinical.N.Stage     0\n",
      "Clinical.M.Stage     0\n",
      "Overall.Stage        1\n",
      "Histology           42\n",
      "gender               0\n",
      "Survival.time        0\n",
      "deadstatus.event     0\n",
      "dtype: int64\n"
     ]
    }
   ],
   "source": [
    "# How many datapoints do we have and how complete are they?\n",
    "print(f'Number of rows in the data: {len(data)}')\n",
    "print(f'Number of rows with no missing values: {len(data.dropna(axis=0, how=\"any\"))}')\n",
    "print('Number of missing values in each column:')\n",
    "print(data.apply(pd.isna, axis=1).agg('sum', axis=0))\n"
   ]
  },
  {
   "cell_type": "code",
   "execution_count": 3,
   "metadata": {},
   "outputs": [
    {
     "name": "stdout",
     "output_type": "stream",
     "text": [
      "List of numeric columns:\n",
      "['age', 'clinical.T.Stage', 'Clinical.N.Stage', 'Clinical.M.Stage', 'Survival.time', 'deadstatus.event']\n",
      "List of non-numeric columns:\n",
      "['PatientID', 'Overall.Stage', 'Histology', 'gender']\n"
     ]
    }
   ],
   "source": [
    "# What kind of columns do we have?\n",
    "print('List of numeric columns:')\n",
    "print(list(data.select_dtypes(include=[np.number]).columns))\n",
    "\n",
    "print('List of non-numeric columns:')\n",
    "non_numerics = list(data.select_dtypes(exclude=[np.number]).columns)\n",
    "print(non_numerics)"
   ]
  },
  {
   "cell_type": "code",
   "execution_count": 4,
   "metadata": {},
   "outputs": [
    {
     "data": {
      "text/plain": [
       "(<Figure size 288x648 with 6 Axes>,\n",
       " [<AxesSubplot:>,\n",
       "  <AxesSubplot:>,\n",
       "  <AxesSubplot:>,\n",
       "  <AxesSubplot:>,\n",
       "  <AxesSubplot:>,\n",
       "  <AxesSubplot:>],\n",
       " {'age': (array([ 1.,  0.,  5.,  8., 18., 27., 39., 45., 57., 55., 48., 55., 27.,\n",
       "          11.,  4.]),\n",
       "   array([33.6849 , 37.55286, 41.42082, 45.28878, 49.15674, 53.0247 ,\n",
       "          56.89266, 60.76062, 64.62858, 68.49654, 72.3645 , 76.23246,\n",
       "          80.10042, 83.96838, 87.83634, 91.7043 ]),\n",
       "   <BarContainer object of 15 artists>),\n",
       "  'clinical.T.Stage': (array([ 93.,   0., 156.,   0.,   0.,  53.,   0., 117.,   0.,   2.]),\n",
       "   array([1. , 1.4, 1.8, 2.2, 2.6, 3. , 3.4, 3.8, 4.2, 4.6, 5. ]),\n",
       "   <BarContainer object of 10 artists>),\n",
       "  'Clinical.N.Stage': (array([170.,   0.,  23.,   0.,   0., 141.,   0.,  85.,   0.,   3.]),\n",
       "   array([0. , 0.4, 0.8, 1.2, 1.6, 2. , 2.4, 2.8, 3.2, 3.6, 4. ]),\n",
       "   <BarContainer object of 10 artists>),\n",
       "  'Clinical.M.Stage': (array([417.,   0.,   0.,   1.,   0.,   0.,   0.,   0.,   0.,   4.]),\n",
       "   array([0. , 0.3, 0.6, 0.9, 1.2, 1.5, 1.8, 2.1, 2.4, 2.7, 3. ]),\n",
       "   <BarContainer object of 10 artists>),\n",
       "  'Survival.time': (array([126.,  97.,  47.,  26.,  25.,  26.,  18.,   5.,   7.,  10.,   6.,\n",
       "           13.,   8.,   4.,   4.]),\n",
       "   array([  10.        ,  306.26666667,  602.53333333,  898.8       ,\n",
       "          1195.06666667, 1491.33333333, 1787.6       , 2083.86666667,\n",
       "          2380.13333333, 2676.4       , 2972.66666667, 3268.93333333,\n",
       "          3565.2       , 3861.46666667, 4157.73333333, 4454.        ]),\n",
       "   <BarContainer object of 15 artists>),\n",
       "  'deadstatus.event': (array([ 49.,   0.,   0.,   0.,   0.,   0.,   0.,   0.,   0., 373.]),\n",
       "   array([0. , 0.1, 0.2, 0.3, 0.4, 0.5, 0.6, 0.7, 0.8, 0.9, 1. ]),\n",
       "   <BarContainer object of 10 artists>)})"
      ]
     },
     "execution_count": 4,
     "metadata": {},
     "output_type": "execute_result"
    },
    {
     "data": {
      "image/png": "[encoded data removed]",
      "text/plain": [
       "<Figure size 288x648 with 6 Axes>"
      ]
     },
     "metadata": {
      "needs_background": "light"
     },
     "output_type": "display_data"
    }
   ],
   "source": [
    "# What's in the numeric columns?\n",
    "from swat4ls.util import make_hists\n",
    "\n",
    "make_hists(data.select_dtypes(include=[np.number]))"
   ]
  },
  {
   "cell_type": "code",
   "execution_count": 5,
   "metadata": {},
   "outputs": [
    {
     "data": {
      "text/html": [
       "<div>\n",
       "<style scoped>\n",
       "    .dataframe tbody tr th:only-of-type {\n",
       "        vertical-align: middle;\n",
       "    }\n",
       "\n",
       "    .dataframe tbody tr th {\n",
       "        vertical-align: top;\n",
       "    }\n",
       "\n",
       "    .dataframe thead th {\n",
       "        text-align: right;\n",
       "    }\n",
       "</style>\n",
       "<table border=\"1\" class=\"dataframe\">\n",
       "  <thead>\n",
       "    <tr style=\"text-align: right;\">\n",
       "      <th></th>\n",
       "      <th>age</th>\n",
       "      <th>clinical.T.Stage</th>\n",
       "      <th>Clinical.N.Stage</th>\n",
       "      <th>Clinical.M.Stage</th>\n",
       "      <th>Survival.time</th>\n",
       "      <th>deadstatus.event</th>\n",
       "    </tr>\n",
       "  </thead>\n",
       "  <tbody>\n",
       "    <tr>\n",
       "      <th>count</th>\n",
       "      <td>400.000000</td>\n",
       "      <td>421.000000</td>\n",
       "      <td>422.000000</td>\n",
       "      <td>422.000000</td>\n",
       "      <td>422.000000</td>\n",
       "      <td>422.000000</td>\n",
       "    </tr>\n",
       "    <tr>\n",
       "      <th>mean</th>\n",
       "      <td>68.036500</td>\n",
       "      <td>2.475059</td>\n",
       "      <td>1.355450</td>\n",
       "      <td>0.030806</td>\n",
       "      <td>988.857820</td>\n",
       "      <td>0.883886</td>\n",
       "    </tr>\n",
       "    <tr>\n",
       "      <th>std</th>\n",
       "      <td>10.083498</td>\n",
       "      <td>1.130727</td>\n",
       "      <td>1.218116</td>\n",
       "      <td>0.294847</td>\n",
       "      <td>1035.567789</td>\n",
       "      <td>0.320742</td>\n",
       "    </tr>\n",
       "    <tr>\n",
       "      <th>min</th>\n",
       "      <td>33.684900</td>\n",
       "      <td>1.000000</td>\n",
       "      <td>0.000000</td>\n",
       "      <td>0.000000</td>\n",
       "      <td>10.000000</td>\n",
       "      <td>0.000000</td>\n",
       "    </tr>\n",
       "    <tr>\n",
       "      <th>25%</th>\n",
       "      <td>61.234800</td>\n",
       "      <td>2.000000</td>\n",
       "      <td>0.000000</td>\n",
       "      <td>0.000000</td>\n",
       "      <td>261.000000</td>\n",
       "      <td>1.000000</td>\n",
       "    </tr>\n",
       "    <tr>\n",
       "      <th>50%</th>\n",
       "      <td>68.583400</td>\n",
       "      <td>2.000000</td>\n",
       "      <td>2.000000</td>\n",
       "      <td>0.000000</td>\n",
       "      <td>545.500000</td>\n",
       "      <td>1.000000</td>\n",
       "    </tr>\n",
       "    <tr>\n",
       "      <th>75%</th>\n",
       "      <td>75.814475</td>\n",
       "      <td>4.000000</td>\n",
       "      <td>2.000000</td>\n",
       "      <td>0.000000</td>\n",
       "      <td>1397.000000</td>\n",
       "      <td>1.000000</td>\n",
       "    </tr>\n",
       "    <tr>\n",
       "      <th>max</th>\n",
       "      <td>91.704300</td>\n",
       "      <td>5.000000</td>\n",
       "      <td>4.000000</td>\n",
       "      <td>3.000000</td>\n",
       "      <td>4454.000000</td>\n",
       "      <td>1.000000</td>\n",
       "    </tr>\n",
       "  </tbody>\n",
       "</table>\n",
       "</div>"
      ],
      "text/plain": [
       "              age  clinical.T.Stage  Clinical.N.Stage  Clinical.M.Stage  \\\n",
       "count  400.000000        421.000000        422.000000        422.000000   \n",
       "mean    68.036500          2.475059          1.355450          0.030806   \n",
       "std     10.083498          1.130727          1.218116          0.294847   \n",
       "min     33.684900          1.000000          0.000000          0.000000   \n",
       "25%     61.234800          2.000000          0.000000          0.000000   \n",
       "50%     68.583400          2.000000          2.000000          0.000000   \n",
       "75%     75.814475          4.000000          2.000000          0.000000   \n",
       "max     91.704300          5.000000          4.000000          3.000000   \n",
       "\n",
       "       Survival.time  deadstatus.event  \n",
       "count     422.000000        422.000000  \n",
       "mean      988.857820          0.883886  \n",
       "std      1035.567789          0.320742  \n",
       "min        10.000000          0.000000  \n",
       "25%       261.000000          1.000000  \n",
       "50%       545.500000          1.000000  \n",
       "75%      1397.000000          1.000000  \n",
       "max      4454.000000          1.000000  "
      ]
     },
     "execution_count": 5,
     "metadata": {},
     "output_type": "execute_result"
    }
   ],
   "source": [
    "# Any further general information about the columns\n",
    "data.describe()"
   ]
  },
  {
   "cell_type": "code",
   "execution_count": 24,
   "metadata": {},
   "outputs": [
    {
     "name": "stdout",
     "output_type": "stream",
     "text": [
      "Number of unique values in non-numeric columns:\n",
      "          PatientID  Overall.Stage  Histology  gender\n",
      "<lambda>        422              5          5       2\n",
      "\n",
      "what these unique values look like (truncated for readability):\n",
      "PatientID:\n",
      "['LUNG1-001', 'LUNG1-002', 'LUNG1-003', 'LUNG1-004', 'LUNG1-005', 'LUNG1-006', 'LUNG1-007', 'LUNG1-008', 'LUNG1-009', 'LUNG1-010']\n",
      "Overall.Stage:\n",
      "['IIIb', 'I', 'IIIb', 'II', 'IIIb', 'IIIa', 'IIIa', 'IIIa', 'IIIa', 'IIIb']\n",
      "Histology:\n",
      "['large cell', 'squamous cell carcinoma', 'large cell', 'squamous cell carcinoma', 'squamous cell carcinoma', 'squamous cell carcinoma', 'squamous cell carcinoma', 'adenocarcinoma', 'squamous cell carcinoma', 'squamous cell carcinoma']\n",
      "gender:\n",
      "['male', 'male', 'male', 'male', 'male', 'male', 'male', 'male', 'male', 'female']\n"
     ]
    }
   ],
   "source": [
    "# What kind of data is in the non-numeric columns?\n",
    "print('Number of unique values in non-numeric columns:')\n",
    "print(data[non_numerics].agg([\n",
    "    lambda x: len(x.unique()), \n",
    "]))\n",
    "print()\n",
    "print('what these unique values look like (truncated for readability):')\n",
    "for col in data[non_numerics].columns:\n",
    "    print(f'{col}:')\n",
    "    print(list(data[col][:10]))"
   ]
  },
  {
   "cell_type": "code",
   "execution_count": 28,
   "metadata": {},
   "outputs": [
    {
     "name": "stdout",
     "output_type": "stream",
     "text": [
      "PatientID:\n",
      "LUNG1-001    1\n",
      "LUNG1-053    1\n",
      "LUNG1-004    1\n",
      "LUNG1-005    1\n",
      "LUNG1-006    1\n",
      "LUNG1-007    1\n",
      "LUNG1-008    1\n",
      "LUNG1-009    1\n",
      "LUNG1-010    1\n",
      "LUNG1-011    1\n",
      "Name: PatientID, dtype: int64\n",
      "\n",
      "Overall.Stage:\n",
      "IIIb    176\n",
      "IIIa    112\n",
      "I        93\n",
      "II       40\n",
      "Name: Overall.Stage, dtype: int64\n",
      "\n",
      "Histology:\n",
      "squamous cell carcinoma    152\n",
      "large cell                 114\n",
      "nos                         63\n",
      "adenocarcinoma              51\n",
      "Name: Histology, dtype: int64\n",
      "\n",
      "gender:\n",
      "male      290\n",
      "female    132\n",
      "Name: gender, dtype: int64\n",
      "\n"
     ]
    }
   ],
   "source": [
    "# How many times we see the individual values in each columns:\n",
    "for col in data[non_numerics].columns:\n",
    "    print(f'{col}:')\n",
    "    print(data[col].value_counts().sort_values(ascending=False)[:10])\n",
    "    print()"
   ]
  }
 ],
 "metadata": {
  "interpreter": {
   "hash": "a06a01ce0865889cc756472f248a4ff9fe45699d148bc95a7c8f8d96d2d66375"
  },
  "kernelspec": {
   "display_name": "Python 3.9.9 64-bit ('venv': venv)",
   "language": "python",
   "name": "python3"
  },
  "language_info": {
   "codemirror_mode": {
    "name": "ipython",
    "version": 3
   },
   "file_extension": ".py",
   "mimetype": "text/x-python",
   "name": "python",
   "nbconvert_exporter": "python",
   "pygments_lexer": "ipython3",
   "version": "3.9.9"
  },
  "orig_nbformat": 4
 },
 "nbformat": 4,
 "nbformat_minor": 2
}
