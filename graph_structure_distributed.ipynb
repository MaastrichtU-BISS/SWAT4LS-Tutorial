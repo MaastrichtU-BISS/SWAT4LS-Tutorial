{
 "cells": [
  {
   "cell_type": "code",
   "execution_count": null,
   "metadata": {},
   "outputs": [],
   "source": [
    "from vantage6.client import Client"
   ]
  },
  {
   "cell_type": "code",
   "execution_count": null,
   "metadata": {},
   "outputs": [],
   "source": [
    "client = Client(\"http://localhost\", 5000, \"/api\")\n",
    "client.authenticate(\"node1-admin\", \"password\")\n",
    "client.setup_encryption(None)"
   ]
  },
  {
   "cell_type": "code",
   "execution_count": null,
   "metadata": {},
   "outputs": [],
   "source": [
    "# Find out the organizations and collaborations we can run on\n",
    "import json\n",
    "collaboration_list = client.collaboration.list()\n",
    "collaboration_index = 0\n",
    "organization_ids_ = [ ]\n",
    "\n",
    "for organization in collaboration_list[collaboration_index]['organizations']:\n",
    "    organization_ids_.append(organization['id'])\n",
    "print(json.dumps(client.node.list(), indent=2))"
   ]
  },
  {
   "cell_type": "code",
   "execution_count": null,
   "metadata": {},
   "outputs": [],
   "source": [
    "# Request the structure to be built\n",
    "input_ = {\n",
    "    \"master\": \"true\",\n",
    "    \"method\":\"master\", \n",
    "    \"args\": [ ],\n",
    "    \"kwargs\": {}\n",
    "}\n",
    "\n",
    "task = client.post_task(\n",
    "    name=\"GetGraphStructure\",\n",
    "    image=\"jaspersnel/v6-graphstructure-rdf-py\",\n",
    "    collaboration_id=collaboration_list[collaboration_index]['id'],#Get the first collaboration associated with user\n",
    "    input_= input_,\n",
    "    organization_ids=[organization_ids_[0]]\n",
    ")\n",
    "\n",
    "print(json.dumps(task, indent=2))"
   ]
  },
  {
   "cell_type": "code",
   "execution_count": null,
   "metadata": {},
   "outputs": [],
   "source": [
    "# Wait for results\n",
    "import time\n",
    "import json\n",
    "resultObjRef = task.get(\"results\")[0]\n",
    "resultObj = client.result.get(resultObjRef['id'])\n",
    "attempts = 1\n",
    "while((resultObj[\"finished_at\"] == None) and attempts < 10):\n",
    "    print(\"waiting...\")\n",
    "    time.sleep(5)\n",
    "    resultObj = client.result.get(resultObjRef['id'])\n",
    "    attempts += 1\n",
    "results = resultObj['result']\n",
    "intersect = results['intersect']\n",
    "union = results['union']\n",
    "print(intersect[:10])\n",
    "print(union[:10])"
   ]
  },
  {
   "cell_type": "code",
   "execution_count": null,
   "metadata": {},
   "outputs": [],
   "source": [
    "# List (some of) the classes we've found\n",
    "classes = set()\n",
    "for s, p, o in union + intersect:\n",
    "    classes.add(s)\n",
    "    classes.add(o)\n",
    "\n",
    "for i, cls in enumerate(classes):\n",
    "    print(cls)\n",
    "    if i >= 9:\n",
    "        break"
   ]
  },
  {
   "cell_type": "code",
   "execution_count": null,
   "metadata": {},
   "outputs": [],
   "source": [
    "# Show all the common elements\n",
    "from pyvis.network import Network\n",
    "\n",
    "intersect_graph = Network(notebook=True, directed=True)\n",
    "\n",
    "for s, p, o in intersect:\n",
    "    intersect_graph.add_nodes([s, o])\n",
    "    intersect_graph.add_edge(s, o, title=p)\n",
    "\n",
    "intersect_graph.show('intersect.html')"
   ]
  },
  {
   "cell_type": "code",
   "execution_count": null,
   "metadata": {},
   "outputs": [],
   "source": [
    "# Show all elements\n",
    "union_graph = Network(notebook=True, directed=True)\n",
    "\n",
    "for s, p, o in union:\n",
    "    union_graph.add_nodes([s, o])\n",
    "    union_graph.add_edge(s, o, title=p)\n",
    "\n",
    "union_graph.show('union.html')"
   ]
  },
  {
   "cell_type": "code",
   "execution_count": null,
   "metadata": {},
   "outputs": [],
   "source": [
    "# Combine them!\n",
    "graph = Network(notebook=True, directed=True)\n",
    "\n",
    "intersect_classes = [s for s, _, _ in intersect] + [o for _, _, o in intersect]\n",
    "\n",
    "for s, p, o in union:\n",
    "    color = 'grey'\n",
    "    if s in intersect_classes:\n",
    "        color = 'blue'\n",
    "    graph.add_node(s, color=color)\n",
    "\n",
    "    color = 'grey'\n",
    "    if o in intersect_classes:\n",
    "        color = 'blue'\n",
    "    graph.add_node(o, color=color)\n",
    "\n",
    "    graph.add_edge(s, o, title=p)\n",
    "\n",
    "graph.show('integrated.html')"
   ]
  }
 ],
 "metadata": {
  "language_info": {
   "name": "python"
  },
  "orig_nbformat": 4
 },
 "nbformat": 4,
 "nbformat_minor": 2
}
