{
 "cells": [
  {
   "cell_type": "code",
   "execution_count": null,
   "metadata": {},
   "outputs": [],
   "source": [
    "from vantage6.client import Client"
   ]
  },
  {
   "cell_type": "code",
   "execution_count": null,
   "metadata": {},
   "outputs": [],
   "source": [
    "client = Client(\"https://vantage6-swat4ls2022-tutorial.azurewebsites.net\", 443, \"/api\")\n",
    "client.authenticate(\"alpha-hospital-admin\", \"cvvwZuB5Z5aOl41YI6ZF\")\n",
    "client.setup_encryption(None)"
   ]
  },
  {
   "cell_type": "code",
   "execution_count": null,
   "metadata": {},
   "outputs": [],
   "source": [
    "# Find out the organizations and collaborations we can run on\n",
    "import json\n",
    "collaboration_list = client.collaboration.list()\n",
    "collaboration_index = 0\n",
    "organization_ids_ = [ ]\n",
    "\n",
    "for organization in collaboration_list[collaboration_index]['organizations']:\n",
    "    organization_ids_.append(organization['id'])\n",
    "print(json.dumps(client.node.list(), indent=2))"
   ]
  },
  {
   "cell_type": "code",
   "execution_count": null,
   "metadata": {},
   "outputs": [],
   "source": [
    "# Write your query here\n",
    "query = \"\"\"\n",
    "prefix snomedct: <http://purl.bioontology.org/ontology/SNOMEDCT/> \n",
    "prefix roo: <http://www.cancerdata.org/roo/>\n",
    "prefix ncit: <http://ncicb.nci.nih.gov/xml/owl/EVS/Thesaurus.owl#>\n",
    "prefix rdf: <http://www.w3.org/1999/02/22-rdf-syntax-ns#>\n",
    "prefix xsd: <http://www.w3.org/2001/XMLSchema#>\n",
    "\n",
    "\n",
    "select ?survival_5y ?lymphNodesExamined ?lymphNodesPositive ?estrogenReceptor ?progresteronReceptor ?her2Receptor ?tumorSize ?clinTStage ?clinNStage ?clinMStage ?pathTStage ?pathNStage ?axNodeDissection\n",
    "\n",
    "where { \n",
    "        ?patient a snomedct:116154003;\n",
    "                ncit:P395 ?patientIdentifier. #targetCode\n",
    "    \t?patient roo:survival_5_years ?survival_5y.\n",
    "\t\t?patient roo:P100008 ?tumour.#has neoplasm\n",
    "   \t\t?tumour ncit:P395 ?diseaseEpisode;\t\n",
    "             \troo:P100042 ?tumourTypeClass; \n",
    "             \troo:P100258 [ #has_disease_finding\n",
    "        \t\t\t\trdf:type ncit:C124446;\n",
    "          \t\t\t\troo:P100042 ?lymphNodesExamined].\n",
    "optional{?tumour ncit:P395 ?diseaseEpisode;\t\n",
    "            \troo:P100258 [ #has_disease_finding\n",
    "            \t\trdf:type ncit:C124447;\n",
    "             \t\troo:P100042 ?lymphNodesPositive].}          \n",
    "optional{?tumour ncit:P395 ?diseaseEpisode;\t\n",
    "                 roo:P100258 [ #has_disease_finding\n",
    "        \t\t\trdf:type ncit:C16150;\t\n",
    "          \t\t\troo:P100042 ?estrogenReceptor].}\n",
    "optional{?tumour ncit:P395 ?diseaseEpisode;\t    \n",
    "          \t \troo:P100258 [ #has_disease_finding\n",
    "        \t\t\trdf:type ncit:C16149;\t\n",
    "          \t\t\troo:P100042 ?progresteronReceptor].}\n",
    "optional{?tumour ncit:P395 ?diseaseEpisode;\t        \n",
    "          \t \troo:P100258 [ #has_disease_finding\n",
    "        \t\t\trdf:type ncit:C68748;\t\n",
    "           \t\t\troo:P100042 ?her2Receptor].}        \n",
    "optional{?tumour ncit:P395 ?diseaseEpisode;\t    \n",
    "    \t\t\troo:P100214 [ #has tumour size\t\n",
    "            \troo:P100042 ?tumorSize].}\n",
    "optional{?tumour ncit:P395 ?diseaseEpisode;\t        \n",
    "          \t \troo:P100243[ #has clinical stage\n",
    "        \t\t\troo:P100244 [ #has clinical t stage               \t\t\n",
    "            \t\troo:P100042 ?clinTStage]].}\n",
    "optional{?tumour ncit:P395 ?diseaseEpisode;\t  \n",
    "                roo:P100243[ #has clinical stage\n",
    "                 \troo:P100242 [ #has clinical n stage\n",
    "            \t\troo:P100042 ?clinNStage]].}\n",
    "optional{?tumour ncit:P395 ?diseaseEpisode;\t     \t\t\t\t\t\n",
    "           \t\troo:P100243[ #has clinical stage\t\n",
    "                     roo:P100241 [ #has clinical m stage\n",
    "            \t\t roo:P100042 ?clinMStage]].}  \n",
    "optional{?tumour ncit:P395 ?diseaseEpisode;\t             \n",
    "          \t\troo:P100243[ #has clinical stage\n",
    "                 \troo:P100288 [ #has path t stage\n",
    "            \t\troo:P100042 ?pathTStage]].}\n",
    "optional{?tumour ncit:P395 ?diseaseEpisode;\t             \n",
    "          \t\troo:P100243[ #has clinical stage               \n",
    "            \t\troo:P100286 [ #has path n stage\n",
    "            \t\troo:P100042 ?pathNStage]].}\n",
    "optional{?tumour ncit:P395 ?diseaseEpisode;\t             \n",
    "          \t\troo:P100243[ #has clinical stage    \n",
    "\t\t\t\t\troo:P100285 [ #has path m stage\n",
    "           \t\t\troo:P100042 ?pathMStage]]. }\n",
    "optional{?tumour ncit:P395 ?diseaseEpisode;\t             \n",
    "          \t\troo:P100024[ #has procedure\n",
    "            \t\trdf:type ncit:C15677;\n",
    "              \t\troo:P100042 ?axNodeDissection].}\n",
    "    \n",
    "}\n",
    "\"\"\""
   ]
  },
  {
   "cell_type": "code",
   "execution_count": null,
   "metadata": {},
   "outputs": [],
   "source": [
    "# Request the the model to be trained and evaluated\n",
    "input_ = {\n",
    "    \"master\": \"true\",\n",
    "    \"method\":\"master\", \n",
    "    \"args\": [ ],\n",
    "    \"kwargs\": {\n",
    "        \"query\": query,\n",
    "        \"dependent_var\": \"survival_5y\",\n",
    "    }\n",
    "}\n",
    "\n",
    "task = client.post_task(\n",
    "    name=\"Model\",\n",
    "    image=\"jaspersnel/v6-svr-centralized-py-rdf:swat4ls-0.1.0\",\n",
    "    collaboration_id=collaboration_list[collaboration_index]['id'],#Get the first collaboration associated with user\n",
    "    input_= input_,\n",
    "    organization_ids=[organization_ids_[0]]\n",
    ")\n",
    "\n",
    "print(json.dumps(task, indent=2))"
   ]
  },
  {
   "cell_type": "code",
   "execution_count": null,
   "metadata": {},
   "outputs": [],
   "source": [
    "# Wait for results\n",
    "import time\n",
    "import json\n",
    "resultObjRef = task.get(\"results\")[0]\n",
    "resultObj = client.result.get(resultObjRef['id'])\n",
    "attempts = 1\n",
    "while((resultObj[\"finished_at\"] == None) and attempts < 10):\n",
    "    print(\"waiting...\")\n",
    "    time.sleep(5)\n",
    "    resultObj = client.result.get(resultObjRef['id'])\n",
    "    attempts += 1\n",
    "results = resultObj['result']\n",
    "\n",
    "print(results)"
   ]
  },
  {
   "cell_type": "code",
   "execution_count": null,
   "metadata": {},
   "outputs": [],
   "source": [
    "print(resultObj['log'])"
   ]
  }
 ],
 "metadata": {
  "interpreter": {
   "hash": "d90d37459e7ee502434752eccc450bfa5c89ee8d57fbdde60cef32a9d6ab31a0"
  },
  "kernelspec": {
   "display_name": "Python 3.9.9 64-bit ('venv': venv)",
   "language": "python",
   "name": "python3"
  },
  "language_info": {
   "codemirror_mode": {
    "name": "ipython",
    "version": 3
   },
   "file_extension": ".py",
   "mimetype": "text/x-python",
   "name": "python",
   "nbconvert_exporter": "python",
   "pygments_lexer": "ipython3",
   "version": "3.9.9"
  },
  "orig_nbformat": 4
 },
 "nbformat": 4,
 "nbformat_minor": 2
}
